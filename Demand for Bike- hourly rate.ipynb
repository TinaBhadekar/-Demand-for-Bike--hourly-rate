{
 "cells": [
  {
   "cell_type": "code",
   "execution_count": 1,
   "metadata": {},
   "outputs": [],
   "source": [
    "import pandas as pd\n",
    "import matplotlib.pyplot as plt\n",
    "import numpy as np\n",
    "from sklearn import linear_model\n",
    "import os"
   ]
  },
  {
   "cell_type": "code",
   "execution_count": 2,
   "metadata": {},
   "outputs": [],
   "source": [
    "os.chdir(r'C:\\Users\\Tina Bhadekar\\OneDrive\\Desktop\\Study material\\Data sets\\udemy')"
   ]
  },
  {
   "cell_type": "code",
   "execution_count": 3,
   "metadata": {},
   "outputs": [],
   "source": [
    "df = pd.read_csv(\"Bikehrs_data.csv\")"
   ]
  },
  {
   "cell_type": "code",
   "execution_count": 4,
   "metadata": {},
   "outputs": [],
   "source": [
    "import math"
   ]
  },
  {
   "cell_type": "code",
   "execution_count": 5,
   "metadata": {},
   "outputs": [],
   "source": [
    "df_bikes= df.copy()"
   ]
  },
  {
   "cell_type": "code",
   "execution_count": 6,
   "metadata": {},
   "outputs": [],
   "source": [
    "df_bikes = df_bikes.drop(['index','date','casual','registered'],axis =1)"
   ]
  },
  {
   "cell_type": "code",
   "execution_count": 7,
   "metadata": {},
   "outputs": [
    {
     "data": {
      "text/html": [
       "<div>\n",
       "<style scoped>\n",
       "    .dataframe tbody tr th:only-of-type {\n",
       "        vertical-align: middle;\n",
       "    }\n",
       "\n",
       "    .dataframe tbody tr th {\n",
       "        vertical-align: top;\n",
       "    }\n",
       "\n",
       "    .dataframe thead th {\n",
       "        text-align: right;\n",
       "    }\n",
       "</style>\n",
       "<table border=\"1\" class=\"dataframe\">\n",
       "  <thead>\n",
       "    <tr style=\"text-align: right;\">\n",
       "      <th></th>\n",
       "      <th>season</th>\n",
       "      <th>year</th>\n",
       "      <th>month</th>\n",
       "      <th>hour</th>\n",
       "      <th>holiday</th>\n",
       "      <th>weekday</th>\n",
       "      <th>workingday</th>\n",
       "      <th>weather</th>\n",
       "      <th>temp</th>\n",
       "      <th>atemp</th>\n",
       "      <th>humidity</th>\n",
       "      <th>windspeed</th>\n",
       "      <th>demand</th>\n",
       "    </tr>\n",
       "  </thead>\n",
       "  <tbody>\n",
       "    <tr>\n",
       "      <th>0</th>\n",
       "      <td>1</td>\n",
       "      <td>0</td>\n",
       "      <td>1</td>\n",
       "      <td>0</td>\n",
       "      <td>0</td>\n",
       "      <td>6</td>\n",
       "      <td>0</td>\n",
       "      <td>1</td>\n",
       "      <td>0.24</td>\n",
       "      <td>0.2879</td>\n",
       "      <td>0.81</td>\n",
       "      <td>0.0</td>\n",
       "      <td>16</td>\n",
       "    </tr>\n",
       "    <tr>\n",
       "      <th>1</th>\n",
       "      <td>1</td>\n",
       "      <td>0</td>\n",
       "      <td>1</td>\n",
       "      <td>1</td>\n",
       "      <td>0</td>\n",
       "      <td>6</td>\n",
       "      <td>0</td>\n",
       "      <td>1</td>\n",
       "      <td>0.22</td>\n",
       "      <td>0.2727</td>\n",
       "      <td>0.80</td>\n",
       "      <td>0.0</td>\n",
       "      <td>40</td>\n",
       "    </tr>\n",
       "    <tr>\n",
       "      <th>2</th>\n",
       "      <td>1</td>\n",
       "      <td>0</td>\n",
       "      <td>1</td>\n",
       "      <td>2</td>\n",
       "      <td>0</td>\n",
       "      <td>6</td>\n",
       "      <td>0</td>\n",
       "      <td>1</td>\n",
       "      <td>0.22</td>\n",
       "      <td>0.2727</td>\n",
       "      <td>0.80</td>\n",
       "      <td>0.0</td>\n",
       "      <td>32</td>\n",
       "    </tr>\n",
       "    <tr>\n",
       "      <th>3</th>\n",
       "      <td>1</td>\n",
       "      <td>0</td>\n",
       "      <td>1</td>\n",
       "      <td>3</td>\n",
       "      <td>0</td>\n",
       "      <td>6</td>\n",
       "      <td>0</td>\n",
       "      <td>1</td>\n",
       "      <td>0.24</td>\n",
       "      <td>0.2879</td>\n",
       "      <td>0.75</td>\n",
       "      <td>0.0</td>\n",
       "      <td>13</td>\n",
       "    </tr>\n",
       "    <tr>\n",
       "      <th>4</th>\n",
       "      <td>1</td>\n",
       "      <td>0</td>\n",
       "      <td>1</td>\n",
       "      <td>4</td>\n",
       "      <td>0</td>\n",
       "      <td>6</td>\n",
       "      <td>0</td>\n",
       "      <td>1</td>\n",
       "      <td>0.24</td>\n",
       "      <td>0.2879</td>\n",
       "      <td>0.75</td>\n",
       "      <td>0.0</td>\n",
       "      <td>1</td>\n",
       "    </tr>\n",
       "  </tbody>\n",
       "</table>\n",
       "</div>"
      ],
      "text/plain": [
       "   season  year  month  hour  holiday  weekday  workingday  weather  temp  \\\n",
       "0       1     0      1     0        0        6           0        1  0.24   \n",
       "1       1     0      1     1        0        6           0        1  0.22   \n",
       "2       1     0      1     2        0        6           0        1  0.22   \n",
       "3       1     0      1     3        0        6           0        1  0.24   \n",
       "4       1     0      1     4        0        6           0        1  0.24   \n",
       "\n",
       "    atemp  humidity  windspeed  demand  \n",
       "0  0.2879      0.81        0.0      16  \n",
       "1  0.2727      0.80        0.0      40  \n",
       "2  0.2727      0.80        0.0      32  \n",
       "3  0.2879      0.75        0.0      13  \n",
       "4  0.2879      0.75        0.0       1  "
      ]
     },
     "execution_count": 7,
     "metadata": {},
     "output_type": "execute_result"
    }
   ],
   "source": [
    "df_bikes.head()"
   ]
  },
  {
   "cell_type": "code",
   "execution_count": 8,
   "metadata": {},
   "outputs": [
    {
     "data": {
      "text/html": [
       "<div>\n",
       "<style scoped>\n",
       "    .dataframe tbody tr th:only-of-type {\n",
       "        vertical-align: middle;\n",
       "    }\n",
       "\n",
       "    .dataframe tbody tr th {\n",
       "        vertical-align: top;\n",
       "    }\n",
       "\n",
       "    .dataframe thead th {\n",
       "        text-align: right;\n",
       "    }\n",
       "</style>\n",
       "<table border=\"1\" class=\"dataframe\">\n",
       "  <thead>\n",
       "    <tr style=\"text-align: right;\">\n",
       "      <th></th>\n",
       "      <th>season</th>\n",
       "      <th>year</th>\n",
       "      <th>month</th>\n",
       "      <th>hour</th>\n",
       "      <th>holiday</th>\n",
       "      <th>weekday</th>\n",
       "      <th>workingday</th>\n",
       "      <th>weather</th>\n",
       "      <th>temp</th>\n",
       "      <th>atemp</th>\n",
       "      <th>humidity</th>\n",
       "      <th>windspeed</th>\n",
       "      <th>demand</th>\n",
       "    </tr>\n",
       "  </thead>\n",
       "  <tbody>\n",
       "    <tr>\n",
       "      <th>count</th>\n",
       "      <td>17379.000000</td>\n",
       "      <td>17379.000000</td>\n",
       "      <td>17379.000000</td>\n",
       "      <td>17379.000000</td>\n",
       "      <td>17379.000000</td>\n",
       "      <td>17379.000000</td>\n",
       "      <td>17379.000000</td>\n",
       "      <td>17379.000000</td>\n",
       "      <td>17379.000000</td>\n",
       "      <td>17379.000000</td>\n",
       "      <td>17379.000000</td>\n",
       "      <td>17379.000000</td>\n",
       "      <td>17379.000000</td>\n",
       "    </tr>\n",
       "    <tr>\n",
       "      <th>mean</th>\n",
       "      <td>2.501640</td>\n",
       "      <td>0.502561</td>\n",
       "      <td>6.537775</td>\n",
       "      <td>11.546752</td>\n",
       "      <td>0.028770</td>\n",
       "      <td>3.003683</td>\n",
       "      <td>0.682721</td>\n",
       "      <td>1.425283</td>\n",
       "      <td>0.496987</td>\n",
       "      <td>0.475775</td>\n",
       "      <td>0.627229</td>\n",
       "      <td>0.190098</td>\n",
       "      <td>189.463088</td>\n",
       "    </tr>\n",
       "    <tr>\n",
       "      <th>std</th>\n",
       "      <td>1.106918</td>\n",
       "      <td>0.500008</td>\n",
       "      <td>3.438776</td>\n",
       "      <td>6.914405</td>\n",
       "      <td>0.167165</td>\n",
       "      <td>2.005771</td>\n",
       "      <td>0.465431</td>\n",
       "      <td>0.639357</td>\n",
       "      <td>0.192556</td>\n",
       "      <td>0.171850</td>\n",
       "      <td>0.192930</td>\n",
       "      <td>0.122340</td>\n",
       "      <td>181.387599</td>\n",
       "    </tr>\n",
       "    <tr>\n",
       "      <th>min</th>\n",
       "      <td>1.000000</td>\n",
       "      <td>0.000000</td>\n",
       "      <td>1.000000</td>\n",
       "      <td>0.000000</td>\n",
       "      <td>0.000000</td>\n",
       "      <td>0.000000</td>\n",
       "      <td>0.000000</td>\n",
       "      <td>1.000000</td>\n",
       "      <td>0.020000</td>\n",
       "      <td>0.000000</td>\n",
       "      <td>0.000000</td>\n",
       "      <td>0.000000</td>\n",
       "      <td>1.000000</td>\n",
       "    </tr>\n",
       "    <tr>\n",
       "      <th>25%</th>\n",
       "      <td>2.000000</td>\n",
       "      <td>0.000000</td>\n",
       "      <td>4.000000</td>\n",
       "      <td>6.000000</td>\n",
       "      <td>0.000000</td>\n",
       "      <td>1.000000</td>\n",
       "      <td>0.000000</td>\n",
       "      <td>1.000000</td>\n",
       "      <td>0.340000</td>\n",
       "      <td>0.333300</td>\n",
       "      <td>0.480000</td>\n",
       "      <td>0.104500</td>\n",
       "      <td>40.000000</td>\n",
       "    </tr>\n",
       "    <tr>\n",
       "      <th>50%</th>\n",
       "      <td>3.000000</td>\n",
       "      <td>1.000000</td>\n",
       "      <td>7.000000</td>\n",
       "      <td>12.000000</td>\n",
       "      <td>0.000000</td>\n",
       "      <td>3.000000</td>\n",
       "      <td>1.000000</td>\n",
       "      <td>1.000000</td>\n",
       "      <td>0.500000</td>\n",
       "      <td>0.484800</td>\n",
       "      <td>0.630000</td>\n",
       "      <td>0.194000</td>\n",
       "      <td>142.000000</td>\n",
       "    </tr>\n",
       "    <tr>\n",
       "      <th>75%</th>\n",
       "      <td>3.000000</td>\n",
       "      <td>1.000000</td>\n",
       "      <td>10.000000</td>\n",
       "      <td>18.000000</td>\n",
       "      <td>0.000000</td>\n",
       "      <td>5.000000</td>\n",
       "      <td>1.000000</td>\n",
       "      <td>2.000000</td>\n",
       "      <td>0.660000</td>\n",
       "      <td>0.621200</td>\n",
       "      <td>0.780000</td>\n",
       "      <td>0.253700</td>\n",
       "      <td>281.000000</td>\n",
       "    </tr>\n",
       "    <tr>\n",
       "      <th>max</th>\n",
       "      <td>4.000000</td>\n",
       "      <td>1.000000</td>\n",
       "      <td>12.000000</td>\n",
       "      <td>23.000000</td>\n",
       "      <td>1.000000</td>\n",
       "      <td>6.000000</td>\n",
       "      <td>1.000000</td>\n",
       "      <td>4.000000</td>\n",
       "      <td>1.000000</td>\n",
       "      <td>1.000000</td>\n",
       "      <td>1.000000</td>\n",
       "      <td>0.850700</td>\n",
       "      <td>977.000000</td>\n",
       "    </tr>\n",
       "  </tbody>\n",
       "</table>\n",
       "</div>"
      ],
      "text/plain": [
       "             season          year         month          hour       holiday  \\\n",
       "count  17379.000000  17379.000000  17379.000000  17379.000000  17379.000000   \n",
       "mean       2.501640      0.502561      6.537775     11.546752      0.028770   \n",
       "std        1.106918      0.500008      3.438776      6.914405      0.167165   \n",
       "min        1.000000      0.000000      1.000000      0.000000      0.000000   \n",
       "25%        2.000000      0.000000      4.000000      6.000000      0.000000   \n",
       "50%        3.000000      1.000000      7.000000     12.000000      0.000000   \n",
       "75%        3.000000      1.000000     10.000000     18.000000      0.000000   \n",
       "max        4.000000      1.000000     12.000000     23.000000      1.000000   \n",
       "\n",
       "            weekday    workingday       weather          temp         atemp  \\\n",
       "count  17379.000000  17379.000000  17379.000000  17379.000000  17379.000000   \n",
       "mean       3.003683      0.682721      1.425283      0.496987      0.475775   \n",
       "std        2.005771      0.465431      0.639357      0.192556      0.171850   \n",
       "min        0.000000      0.000000      1.000000      0.020000      0.000000   \n",
       "25%        1.000000      0.000000      1.000000      0.340000      0.333300   \n",
       "50%        3.000000      1.000000      1.000000      0.500000      0.484800   \n",
       "75%        5.000000      1.000000      2.000000      0.660000      0.621200   \n",
       "max        6.000000      1.000000      4.000000      1.000000      1.000000   \n",
       "\n",
       "           humidity     windspeed        demand  \n",
       "count  17379.000000  17379.000000  17379.000000  \n",
       "mean       0.627229      0.190098    189.463088  \n",
       "std        0.192930      0.122340    181.387599  \n",
       "min        0.000000      0.000000      1.000000  \n",
       "25%        0.480000      0.104500     40.000000  \n",
       "50%        0.630000      0.194000    142.000000  \n",
       "75%        0.780000      0.253700    281.000000  \n",
       "max        1.000000      0.850700    977.000000  "
      ]
     },
     "execution_count": 8,
     "metadata": {},
     "output_type": "execute_result"
    }
   ],
   "source": [
    "df_bikes.describe()"
   ]
  },
  {
   "cell_type": "code",
   "execution_count": 9,
   "metadata": {
    "scrolled": true
   },
   "outputs": [
    {
     "name": "stdout",
     "output_type": "stream",
     "text": [
      "<class 'pandas.core.frame.DataFrame'>\n",
      "RangeIndex: 17379 entries, 0 to 17378\n",
      "Data columns (total 13 columns):\n",
      " #   Column      Non-Null Count  Dtype  \n",
      "---  ------      --------------  -----  \n",
      " 0   season      17379 non-null  int64  \n",
      " 1   year        17379 non-null  int64  \n",
      " 2   month       17379 non-null  int64  \n",
      " 3   hour        17379 non-null  int64  \n",
      " 4   holiday     17379 non-null  int64  \n",
      " 5   weekday     17379 non-null  int64  \n",
      " 6   workingday  17379 non-null  int64  \n",
      " 7   weather     17379 non-null  int64  \n",
      " 8   temp        17379 non-null  float64\n",
      " 9   atemp       17379 non-null  float64\n",
      " 10  humidity    17379 non-null  float64\n",
      " 11  windspeed   17379 non-null  float64\n",
      " 12  demand      17379 non-null  int64  \n",
      "dtypes: float64(4), int64(9)\n",
      "memory usage: 1.7 MB\n"
     ]
    }
   ],
   "source": [
    "df_bikes.info()"
   ]
  },
  {
   "cell_type": "code",
   "execution_count": 10,
   "metadata": {},
   "outputs": [
    {
     "data": {
      "text/plain": [
       "season        0\n",
       "year          0\n",
       "month         0\n",
       "hour          0\n",
       "holiday       0\n",
       "weekday       0\n",
       "workingday    0\n",
       "weather       0\n",
       "temp          0\n",
       "atemp         0\n",
       "humidity      0\n",
       "windspeed     0\n",
       "demand        0\n",
       "dtype: int64"
      ]
     },
     "execution_count": 10,
     "metadata": {},
     "output_type": "execute_result"
    }
   ],
   "source": [
    "# another way to just find the presence of null values\n",
    "df_bikes.isnull().sum()"
   ]
  },
  {
   "cell_type": "code",
   "execution_count": 11,
   "metadata": {},
   "outputs": [
    {
     "data": {
      "image/png": "[encoded data removed]",
      "text/plain": [
       "<Figure size 432x288 with 16 Axes>"
      ]
     },
     "metadata": {
      "needs_background": "light"
     },
     "output_type": "display_data"
    }
   ],
   "source": [
    "# create histogram- chart in array details - numerical values\n",
    "df_bikes.hist()\n",
    "# in form of  fig- each of variables and demand \n",
    "plt.tight_layout()"
   ]
  },
  {
   "cell_type": "code",
   "execution_count": 12,
   "metadata": {},
   "outputs": [
    {
     "data": {
      "text/plain": [
       "<matplotlib.collections.PathCollection at 0x2177a0354f0>"
      ]
     },
     "execution_count": 12,
     "metadata": {},
     "output_type": "execute_result"
    },
    {
     "data": {
      "image/png": "[encoded data removed]",
      "text/plain": [
       "<Figure size 432x288 with 1 Axes>"
      ]
     },
     "metadata": {
      "needs_background": "light"
     },
     "output_type": "display_data"
    }
   ],
   "source": [
    "plt.subplot(2,2,1)\n",
    "plt.title('Temperature Vs Demand')\n",
    "plt.scatter(df_bikes['temp'],df_bikes['demand'],s = 2)"
   ]
  },
  {
   "cell_type": "code",
   "execution_count": 13,
   "metadata": {},
   "outputs": [
    {
     "data": {
      "image/png": "[encoded data removed]",
      "text/plain": [
       "<Figure size 432x288 with 3 Axes>"
      ]
     },
     "metadata": {
      "needs_background": "light"
     },
     "output_type": "display_data"
    }
   ],
   "source": [
    "plt.subplot(2,2,2)\n",
    "plt.title('aTemp Vs Demand')\n",
    "plt.scatter(df_bikes['atemp'], df_bikes['demand'], s=2, c='b')\n",
    "\n",
    "plt.subplot(2,2,3)\n",
    "plt.title('Humidity Vs Demand')\n",
    "plt.scatter(df_bikes['humidity'], df_bikes['demand'], s=2, c='m')\n",
    "\n",
    "plt.subplot(2,2,4)\n",
    "plt.title('Windspeed Vs Demand')\n",
    "plt.scatter(df_bikes['windspeed'], df_bikes['demand'], s=2, c='c')\n",
    "\n",
    "plt.tight_layout()\n",
    "\n"
   ]
  },
  {
   "cell_type": "code",
   "execution_count": 14,
   "metadata": {},
   "outputs": [
    {
     "name": "stdout",
     "output_type": "stream",
     "text": [
      "[1 2 3 4]\n"
     ]
    }
   ],
   "source": [
    "# average demand per season \n",
    "cat_list = df_bikes['season'].unique()\n",
    "print(cat_list)"
   ]
  },
  {
   "cell_type": "code",
   "execution_count": 15,
   "metadata": {},
   "outputs": [
    {
     "name": "stdout",
     "output_type": "stream",
     "text": [
      "season\n",
      "1    111.114569\n",
      "2    208.344069\n",
      "3    236.016237\n",
      "4    198.868856\n",
      "Name: demand, dtype: float64\n"
     ]
    }
   ],
   "source": [
    "cat_average = df_bikes.groupby('season').mean()['demand']\n",
    "print(cat_average)"
   ]
  },
  {
   "cell_type": "code",
   "execution_count": 16,
   "metadata": {},
   "outputs": [
    {
     "data": {
      "text/plain": [
       "<BarContainer object of 4 artists>"
      ]
     },
     "execution_count": 16,
     "metadata": {},
     "output_type": "execute_result"
    },
    {
     "data": {
      "image/png": "[encoded data removed]",
      "text/plain": [
       "<Figure size 432x288 with 1 Axes>"
      ]
     },
     "metadata": {
      "needs_background": "light"
     },
     "output_type": "display_data"
    }
   ],
   "source": [
    "colors = ['g', 'r', 'm', 'b']\n",
    "plt.bar(cat_list,cat_average,color=colors)"
   ]
  },
  {
   "cell_type": "code",
   "execution_count": 17,
   "metadata": {},
   "outputs": [
    {
     "data": {
      "image/png": "[encoded data removed]",
      "text/plain": [
       "<Figure size 432x288 with 7 Axes>"
      ]
     },
     "metadata": {
      "needs_background": "light"
     },
     "output_type": "display_data"
    }
   ],
   "source": [
    "# compare with other 8 categories\n",
    "plt.subplot(3,3,2)\n",
    "plt.title('Average Demand per month')\n",
    "cat_list = df_bikes['month'].unique()\n",
    "cat_average = df_bikes.groupby('month').mean()['demand']\n",
    "plt.bar(cat_list, cat_average, color=colors)\n",
    "\n",
    "plt.subplot(3,3,3)\n",
    "plt.title('Average Demand per Holiday')\n",
    "cat_list = df_bikes['holiday'].unique()\n",
    "cat_average = df_bikes.groupby('holiday').mean()['demand']\n",
    "plt.bar(cat_list, cat_average, color=colors)\n",
    "\n",
    "plt.subplot(3,3,4)\n",
    "plt.title('Average Demand per Weekday')\n",
    "cat_list = df_bikes['weekday'].unique()\n",
    "cat_average = df_bikes.groupby('weekday').mean()['demand']\n",
    "plt.bar(cat_list, cat_average, color=colors)\n",
    "\n",
    "plt.subplot(3,3,5)\n",
    "plt.title('Average Demand per Year')\n",
    "cat_list = df_bikes['year'].unique()\n",
    "cat_average = df_bikes.groupby('year').mean()['demand']\n",
    "plt.bar(cat_list, cat_average, color=colors)\n",
    "\n",
    "plt.subplot(3,3,6)\n",
    "plt.title('Average Demand per hour')\n",
    "cat_list = df_bikes['hour'].unique()\n",
    "cat_average = df_bikes.groupby('hour').mean()['demand']\n",
    "plt.bar(cat_list, cat_average, color=colors)\n",
    "\n",
    "plt.subplot(3,3,7)\n",
    "plt.title('Average Demand per Workingday')\n",
    "cat_list = df_bikes['workingday'].unique()\n",
    "cat_average = df_bikes.groupby('workingday').mean()['demand']\n",
    "plt.bar(cat_list, cat_average, color=colors)\n",
    "\n",
    "plt.subplot(3,3,8)\n",
    "plt.title('Average Demand per Weather')\n",
    "cat_list = df_bikes['weather'].unique()\n",
    "cat_average = df_bikes.groupby('weather').mean()['demand']\n",
    "plt.bar(cat_list, cat_average, color=colors)\n",
    "\n",
    "plt.tight_layout()\n"
   ]
  },
  {
   "cell_type": "code",
   "execution_count": 18,
   "metadata": {},
   "outputs": [
    {
     "data": {
      "text/plain": [
       "<BarContainer object of 24 artists>"
      ]
     },
     "execution_count": 18,
     "metadata": {},
     "output_type": "execute_result"
    },
    {
     "data": {
      "image/png": "[encoded data removed]",
      "text/plain": [
       "<Figure size 432x288 with 1 Axes>"
      ]
     },
     "metadata": {
      "needs_background": "light"
     },
     "output_type": "display_data"
    }
   ],
   "source": [
    "plt.title('Average Demand per hour')\n",
    "cat_list = df_bikes['hour'].unique()\n",
    "cat_average = df_bikes.groupby('hour').mean()['demand']\n",
    "plt.bar(cat_list, cat_average, color=colors)\n"
   ]
  },
  {
   "cell_type": "code",
   "execution_count": null,
   "metadata": {},
   "outputs": [],
   "source": [
    "# check for outliers"
   ]
  },
  {
   "cell_type": "code",
   "execution_count": 19,
   "metadata": {},
   "outputs": [
    {
     "data": {
      "text/plain": [
       "count    17379.000000\n",
       "mean       189.463088\n",
       "std        181.387599\n",
       "min          1.000000\n",
       "25%         40.000000\n",
       "50%        142.000000\n",
       "75%        281.000000\n",
       "max        977.000000\n",
       "Name: demand, dtype: float64"
      ]
     },
     "execution_count": 19,
     "metadata": {},
     "output_type": "execute_result"
    }
   ],
   "source": [
    "df_bikes['demand'].describe()"
   ]
  },
  {
   "cell_type": "code",
   "execution_count": null,
   "metadata": {},
   "outputs": [],
   "source": [
    "# demand for hrs"
   ]
  },
  {
   "cell_type": "code",
   "execution_count": 21,
   "metadata": {},
   "outputs": [
    {
     "data": {
      "text/plain": [
       "0.05      5.00\n",
       "0.10      9.00\n",
       "0.15     16.00\n",
       "0.90    451.20\n",
       "0.95    563.10\n",
       "0.99    782.22\n",
       "Name: demand, dtype: float64"
      ]
     },
     "execution_count": 21,
     "metadata": {},
     "output_type": "execute_result"
    }
   ],
   "source": [
    "df_bikes['demand'].quantile([.05,0.1,0.15,0.9,0.95,0.99])"
   ]
  },
  {
   "cell_type": "code",
   "execution_count": null,
   "metadata": {},
   "outputs": [],
   "source": [
    "# Correlation"
   ]
  },
  {
   "cell_type": "code",
   "execution_count": 25,
   "metadata": {},
   "outputs": [
    {
     "name": "stdout",
     "output_type": "stream",
     "text": [
      "               temp     atemp  humidity  windspeed    demand\n",
      "temp       1.000000  0.987672 -0.069881  -0.023125  0.404772\n",
      "atemp      0.987672  1.000000 -0.051918  -0.062336  0.400929\n",
      "humidity  -0.069881 -0.051918  1.000000  -0.290105 -0.322911\n",
      "windspeed -0.023125 -0.062336 -0.290105   1.000000  0.093234\n",
      "demand     0.404772  0.400929 -0.322911   0.093234  1.000000\n"
     ]
    }
   ],
   "source": [
    "corr = df_bikes[['temp','atemp','humidity','windspeed','demand']].corr()\n",
    "print(corr)"
   ]
  },
  {
   "cell_type": "code",
   "execution_count": 29,
   "metadata": {},
   "outputs": [],
   "source": [
    "import seaborn as sns\n",
    "sns.set()"
   ]
  },
  {
   "cell_type": "code",
   "execution_count": 31,
   "metadata": {},
   "outputs": [
    {
     "data": {
      "text/plain": [
       "<matplotlib.axes._subplots.AxesSubplot at 0x2177a357bb0>"
      ]
     },
     "execution_count": 31,
     "metadata": {},
     "output_type": "execute_result"
    },
    {
     "data": {
      "image/png": "[encoded data removed]",
      "text/plain": [
       "<Figure size 432x288 with 2 Axes>"
      ]
     },
     "metadata": {},
     "output_type": "display_data"
    }
   ],
   "source": [
    "sns.heatmap(data=corr,annot=True)"
   ]
  },
  {
   "cell_type": "code",
   "execution_count": null,
   "metadata": {},
   "outputs": [],
   "source": [
    "df_bikes = df_bikes.drop(['weekday', 'year', 'workingday', 'atemp', 'windspeed'], axis=1)\n"
   ]
  },
  {
   "cell_type": "code",
   "execution_count": 37,
   "metadata": {},
   "outputs": [
    {
     "data": {
      "text/html": [
       "<div>\n",
       "<style scoped>\n",
       "    .dataframe tbody tr th:only-of-type {\n",
       "        vertical-align: middle;\n",
       "    }\n",
       "\n",
       "    .dataframe tbody tr th {\n",
       "        vertical-align: top;\n",
       "    }\n",
       "\n",
       "    .dataframe thead th {\n",
       "        text-align: right;\n",
       "    }\n",
       "</style>\n",
       "<table border=\"1\" class=\"dataframe\">\n",
       "  <thead>\n",
       "    <tr style=\"text-align: right;\">\n",
       "      <th></th>\n",
       "      <th>season</th>\n",
       "      <th>month</th>\n",
       "      <th>hour</th>\n",
       "      <th>holiday</th>\n",
       "      <th>weather</th>\n",
       "      <th>temp</th>\n",
       "      <th>humidity</th>\n",
       "      <th>demand</th>\n",
       "    </tr>\n",
       "  </thead>\n",
       "  <tbody>\n",
       "    <tr>\n",
       "      <th>0</th>\n",
       "      <td>1</td>\n",
       "      <td>1</td>\n",
       "      <td>0</td>\n",
       "      <td>0</td>\n",
       "      <td>1</td>\n",
       "      <td>0.24</td>\n",
       "      <td>0.81</td>\n",
       "      <td>16</td>\n",
       "    </tr>\n",
       "    <tr>\n",
       "      <th>1</th>\n",
       "      <td>1</td>\n",
       "      <td>1</td>\n",
       "      <td>1</td>\n",
       "      <td>0</td>\n",
       "      <td>1</td>\n",
       "      <td>0.22</td>\n",
       "      <td>0.80</td>\n",
       "      <td>40</td>\n",
       "    </tr>\n",
       "    <tr>\n",
       "      <th>2</th>\n",
       "      <td>1</td>\n",
       "      <td>1</td>\n",
       "      <td>2</td>\n",
       "      <td>0</td>\n",
       "      <td>1</td>\n",
       "      <td>0.22</td>\n",
       "      <td>0.80</td>\n",
       "      <td>32</td>\n",
       "    </tr>\n",
       "    <tr>\n",
       "      <th>3</th>\n",
       "      <td>1</td>\n",
       "      <td>1</td>\n",
       "      <td>3</td>\n",
       "      <td>0</td>\n",
       "      <td>1</td>\n",
       "      <td>0.24</td>\n",
       "      <td>0.75</td>\n",
       "      <td>13</td>\n",
       "    </tr>\n",
       "    <tr>\n",
       "      <th>4</th>\n",
       "      <td>1</td>\n",
       "      <td>1</td>\n",
       "      <td>4</td>\n",
       "      <td>0</td>\n",
       "      <td>1</td>\n",
       "      <td>0.24</td>\n",
       "      <td>0.75</td>\n",
       "      <td>1</td>\n",
       "    </tr>\n",
       "  </tbody>\n",
       "</table>\n",
       "</div>"
      ],
      "text/plain": [
       "   season  month  hour  holiday  weather  temp  humidity  demand\n",
       "0       1      1     0        0        1  0.24      0.81      16\n",
       "1       1      1     1        0        1  0.22      0.80      40\n",
       "2       1      1     2        0        1  0.22      0.80      32\n",
       "3       1      1     3        0        1  0.24      0.75      13\n",
       "4       1      1     4        0        1  0.24      0.75       1"
      ]
     },
     "execution_count": 37,
     "metadata": {},
     "output_type": "execute_result"
    }
   ],
   "source": [
    "df_bikes.head()"
   ]
  },
  {
   "cell_type": "code",
   "execution_count": 38,
   "metadata": {},
   "outputs": [
    {
     "data": {
      "text/plain": [
       "(array([-12, -11, -10,  -9,  -8,  -7,  -6,  -5,  -4,  -3,  -2,  -1,   0,\n",
       "          1,   2,   3,   4,   5,   6,   7,   8,   9,  10,  11,  12]),\n",
       " array([0.45474696, 0.47049534, 0.4962279 , 0.4940404 , 0.46795923,\n",
       "        0.47732025, 0.5267575 , 0.59145725, 0.65201557, 0.71519524,\n",
       "        0.80591   , 0.9253094 , 1.        , 0.9253094 , 0.80591   ,\n",
       "        0.71519524, 0.65201557, 0.59145725, 0.5267575 , 0.47732025,\n",
       "        0.46795923, 0.4940404 , 0.4962279 , 0.47049534, 0.45474696],\n",
       "       dtype=float32),\n",
       " <matplotlib.collections.LineCollection at 0x2177a5469d0>,\n",
       " <matplotlib.lines.Line2D at 0x2177a0fd340>)"
      ]
     },
     "execution_count": 38,
     "metadata": {},
     "output_type": "execute_result"
    },
    {
     "data": {
      "image/png": "[encoded data removed]",
      "text/plain": [
       "<Figure size 432x288 with 1 Axes>"
      ]
     },
     "metadata": {},
     "output_type": "display_data"
    }
   ],
   "source": [
    "dff1 = pd.to_numeric(df_bikes['demand'], downcast='float')\n",
    "plt.acorr(dff1, maxlags=12)\n",
    "\n"
   ]
  },
  {
   "cell_type": "code",
   "execution_count": 39,
   "metadata": {},
   "outputs": [
    {
     "data": {
      "text/plain": [
       "<matplotlib.axes._subplots.AxesSubplot at 0x2177a5a0760>"
      ]
     },
     "execution_count": 39,
     "metadata": {},
     "output_type": "execute_result"
    },
    {
     "data": {
      "image/png": "[encoded data removed]",
      "text/plain": [
       "<Figure size 432x288 with 1 Axes>"
      ]
     },
     "metadata": {},
     "output_type": "display_data"
    },
    {
     "data": {
      "image/png": "[encoded data removed]",
      "text/plain": [
       "<Figure size 432x288 with 1 Axes>"
      ]
     },
     "metadata": {},
     "output_type": "display_data"
    }
   ],
   "source": [
    "df1 =df_bikes['demand']\n",
    "df2=np.log(df1)\n",
    "plt.figure()\n",
    "df1.hist(rwidth=.9,bins =20)\n",
    "plt.figure()\n",
    "df2.hist(rwidth=.9,bins =20)"
   ]
  },
  {
   "cell_type": "code",
   "execution_count": 40,
   "metadata": {},
   "outputs": [],
   "source": [
    "df_bikes['demand']=np.log(df_bikes['demand'])"
   ]
  },
  {
   "cell_type": "code",
   "execution_count": 41,
   "metadata": {},
   "outputs": [
    {
     "name": "stdout",
     "output_type": "stream",
     "text": [
      "       season  month  hour  holiday  weather  temp  humidity    demand\n",
      "0           1      1     0        0        1  0.24      0.81  2.772589\n",
      "1           1      1     1        0        1  0.22      0.80  3.688879\n",
      "2           1      1     2        0        1  0.22      0.80  3.465736\n",
      "3           1      1     3        0        1  0.24      0.75  2.564949\n",
      "4           1      1     4        0        1  0.24      0.75  0.000000\n",
      "...       ...    ...   ...      ...      ...   ...       ...       ...\n",
      "17374       1     12    19        0        2  0.26      0.60  4.779123\n",
      "17375       1     12    20        0        2  0.26      0.60  4.488636\n",
      "17376       1     12    21        0        1  0.26      0.60  4.499810\n",
      "17377       1     12    22        0        1  0.26      0.56  4.110874\n",
      "17378       1     12    23        0        1  0.26      0.65  3.891820\n",
      "\n",
      "[17379 rows x 8 columns]\n"
     ]
    }
   ],
   "source": [
    "print(df_bikes)"
   ]
  },
  {
   "cell_type": "code",
   "execution_count": null,
   "metadata": {},
   "outputs": [],
   "source": [
    "# Auto corr in demand column"
   ]
  },
  {
   "cell_type": "code",
   "execution_count": 42,
   "metadata": {},
   "outputs": [],
   "source": [
    "t_1 = df_bikes['demand'].shift(+1).to_frame()\n",
    "t_1.columns =['t-1']"
   ]
  },
  {
   "cell_type": "code",
   "execution_count": 43,
   "metadata": {},
   "outputs": [],
   "source": [
    "t_2 = df_bikes['demand'].shift(+2).to_frame()\n",
    "t_2.columns = ['t-2']\n",
    "\n",
    "t_3 = df_bikes['demand'].shift(+3).to_frame()\n",
    "t_3.columns = ['t-3']\n"
   ]
  },
  {
   "cell_type": "code",
   "execution_count": 44,
   "metadata": {},
   "outputs": [],
   "source": [
    "bikes_prep_lag = pd.concat([df_bikes, t_1, t_2, t_3], axis=1)"
   ]
  },
  {
   "cell_type": "code",
   "execution_count": 45,
   "metadata": {},
   "outputs": [
    {
     "name": "stdout",
     "output_type": "stream",
     "text": [
      "       season  month  hour  holiday  weather  temp  humidity    demand  \\\n",
      "0           1      1     0        0        1  0.24      0.81  2.772589   \n",
      "1           1      1     1        0        1  0.22      0.80  3.688879   \n",
      "2           1      1     2        0        1  0.22      0.80  3.465736   \n",
      "3           1      1     3        0        1  0.24      0.75  2.564949   \n",
      "4           1      1     4        0        1  0.24      0.75  0.000000   \n",
      "...       ...    ...   ...      ...      ...   ...       ...       ...   \n",
      "17374       1     12    19        0        2  0.26      0.60  4.779123   \n",
      "17375       1     12    20        0        2  0.26      0.60  4.488636   \n",
      "17376       1     12    21        0        1  0.26      0.60  4.499810   \n",
      "17377       1     12    22        0        1  0.26      0.56  4.110874   \n",
      "17378       1     12    23        0        1  0.26      0.65  3.891820   \n",
      "\n",
      "            t-1       t-2       t-3  \n",
      "0           NaN       NaN       NaN  \n",
      "1      2.772589       NaN       NaN  \n",
      "2      3.688879  2.772589       NaN  \n",
      "3      3.465736  3.688879  2.772589  \n",
      "4      2.564949  3.465736  3.688879  \n",
      "...         ...       ...       ...  \n",
      "17374  4.804021  5.099866  5.365976  \n",
      "17375  4.779123  4.804021  5.099866  \n",
      "17376  4.488636  4.779123  4.804021  \n",
      "17377  4.499810  4.488636  4.779123  \n",
      "17378  4.110874  4.499810  4.488636  \n",
      "\n",
      "[17379 rows x 11 columns]\n"
     ]
    }
   ],
   "source": [
    "print(bikes_prep_lag)"
   ]
  },
  {
   "cell_type": "code",
   "execution_count": 46,
   "metadata": {},
   "outputs": [],
   "source": [
    "bikes_prep_lag = bikes_prep_lag.dropna()"
   ]
  },
  {
   "cell_type": "code",
   "execution_count": 47,
   "metadata": {},
   "outputs": [
    {
     "name": "stdout",
     "output_type": "stream",
     "text": [
      "       season  month  hour  holiday  weather  temp  humidity    demand  \\\n",
      "3           1      1     3        0        1  0.24      0.75  2.564949   \n",
      "4           1      1     4        0        1  0.24      0.75  0.000000   \n",
      "5           1      1     5        0        2  0.24      0.75  0.000000   \n",
      "6           1      1     6        0        1  0.22      0.80  0.693147   \n",
      "7           1      1     7        0        1  0.20      0.86  1.098612   \n",
      "...       ...    ...   ...      ...      ...   ...       ...       ...   \n",
      "17374       1     12    19        0        2  0.26      0.60  4.779123   \n",
      "17375       1     12    20        0        2  0.26      0.60  4.488636   \n",
      "17376       1     12    21        0        1  0.26      0.60  4.499810   \n",
      "17377       1     12    22        0        1  0.26      0.56  4.110874   \n",
      "17378       1     12    23        0        1  0.26      0.65  3.891820   \n",
      "\n",
      "            t-1       t-2       t-3  \n",
      "3      3.465736  3.688879  2.772589  \n",
      "4      2.564949  3.465736  3.688879  \n",
      "5      0.000000  2.564949  3.465736  \n",
      "6      0.000000  0.000000  2.564949  \n",
      "7      0.693147  0.000000  0.000000  \n",
      "...         ...       ...       ...  \n",
      "17374  4.804021  5.099866  5.365976  \n",
      "17375  4.779123  4.804021  5.099866  \n",
      "17376  4.488636  4.779123  4.804021  \n",
      "17377  4.499810  4.488636  4.779123  \n",
      "17378  4.110874  4.499810  4.488636  \n",
      "\n",
      "[17376 rows x 11 columns]\n"
     ]
    }
   ],
   "source": [
    "print(bikes_prep_lag)"
   ]
  },
  {
   "cell_type": "code",
   "execution_count": 48,
   "metadata": {},
   "outputs": [
    {
     "data": {
      "text/plain": [
       "season        int64\n",
       "month         int64\n",
       "hour          int64\n",
       "holiday       int64\n",
       "weather       int64\n",
       "temp        float64\n",
       "humidity    float64\n",
       "demand      float64\n",
       "t-1         float64\n",
       "t-2         float64\n",
       "t-3         float64\n",
       "dtype: object"
      ]
     },
     "execution_count": 48,
     "metadata": {},
     "output_type": "execute_result"
    }
   ],
   "source": [
    "bikes_prep_lag.dtypes"
   ]
  },
  {
   "cell_type": "code",
   "execution_count": 49,
   "metadata": {},
   "outputs": [],
   "source": [
    "bikes_prep_lag['season'] = bikes_prep_lag['season'].astype('category')\n",
    "bikes_prep_lag['holiday'] = bikes_prep_lag['holiday'].astype('category')\n",
    "bikes_prep_lag['weather'] = bikes_prep_lag['weather'].astype('category')\n",
    "bikes_prep_lag['month'] = bikes_prep_lag['month'].astype('category')\n",
    "bikes_prep_lag['hour'] = bikes_prep_lag['hour'].astype('category')\n",
    "\n",
    "bikes_prep_lag = pd.get_dummies(bikes_prep_lag, drop_first=True)\n"
   ]
  },
  {
   "cell_type": "code",
   "execution_count": 50,
   "metadata": {},
   "outputs": [
    {
     "name": "stdout",
     "output_type": "stream",
     "text": [
      "       temp  humidity    demand       t-1       t-2       t-3  season_2  \\\n",
      "3      0.24      0.75  2.564949  3.465736  3.688879  2.772589         0   \n",
      "4      0.24      0.75  0.000000  2.564949  3.465736  3.688879         0   \n",
      "5      0.24      0.75  0.000000  0.000000  2.564949  3.465736         0   \n",
      "6      0.22      0.80  0.693147  0.000000  0.000000  2.564949         0   \n",
      "7      0.20      0.86  1.098612  0.693147  0.000000  0.000000         0   \n",
      "...     ...       ...       ...       ...       ...       ...       ...   \n",
      "17374  0.26      0.60  4.779123  4.804021  5.099866  5.365976         0   \n",
      "17375  0.26      0.60  4.488636  4.779123  4.804021  5.099866         0   \n",
      "17376  0.26      0.60  4.499810  4.488636  4.779123  4.804021         0   \n",
      "17377  0.26      0.56  4.110874  4.499810  4.488636  4.779123         0   \n",
      "17378  0.26      0.65  3.891820  4.110874  4.499810  4.488636         0   \n",
      "\n",
      "       season_3  season_4  month_2  ...  hour_18  hour_19  hour_20  hour_21  \\\n",
      "3             0         0        0  ...        0        0        0        0   \n",
      "4             0         0        0  ...        0        0        0        0   \n",
      "5             0         0        0  ...        0        0        0        0   \n",
      "6             0         0        0  ...        0        0        0        0   \n",
      "7             0         0        0  ...        0        0        0        0   \n",
      "...         ...       ...      ...  ...      ...      ...      ...      ...   \n",
      "17374         0         0        0  ...        0        1        0        0   \n",
      "17375         0         0        0  ...        0        0        1        0   \n",
      "17376         0         0        0  ...        0        0        0        1   \n",
      "17377         0         0        0  ...        0        0        0        0   \n",
      "17378         0         0        0  ...        0        0        0        0   \n",
      "\n",
      "       hour_22  hour_23  holiday_1  weather_2  weather_3  weather_4  \n",
      "3            0        0          0          0          0          0  \n",
      "4            0        0          0          0          0          0  \n",
      "5            0        0          0          1          0          0  \n",
      "6            0        0          0          0          0          0  \n",
      "7            0        0          0          0          0          0  \n",
      "...        ...      ...        ...        ...        ...        ...  \n",
      "17374        0        0          0          1          0          0  \n",
      "17375        0        0          0          1          0          0  \n",
      "17376        0        0          0          0          0          0  \n",
      "17377        1        0          0          0          0          0  \n",
      "17378        0        1          0          0          0          0  \n",
      "\n",
      "[17376 rows x 47 columns]\n"
     ]
    }
   ],
   "source": [
    "print(bikes_prep_lag)"
   ]
  },
  {
   "cell_type": "code",
   "execution_count": null,
   "metadata": {},
   "outputs": [],
   "source": [
    "# Create Train and test split"
   ]
  },
  {
   "cell_type": "code",
   "execution_count": 52,
   "metadata": {},
   "outputs": [],
   "source": [
    "Y = bikes_prep_lag['demand']\n",
    "X = bikes_prep_lag.drop(['demand'],axis =1)"
   ]
  },
  {
   "cell_type": "code",
   "execution_count": 53,
   "metadata": {},
   "outputs": [],
   "source": [
    "tr_size =0.7*len(X)\n",
    "tr_size = int(tr_size)"
   ]
  },
  {
   "cell_type": "code",
   "execution_count": 54,
   "metadata": {},
   "outputs": [],
   "source": [
    "X_train = X.values[0 : tr_size]\n",
    "X_test = X.values[tr_size : len(X)]\n",
    "\n",
    "Y_train = Y.values[0 : tr_size]\n",
    "Y_test = Y.values[tr_size : len(Y)]\n"
   ]
  },
  {
   "cell_type": "code",
   "execution_count": 55,
   "metadata": {},
   "outputs": [],
   "source": [
    "from sklearn.linear_model import LinearRegression\n",
    "\n",
    "std_reg = LinearRegression()\n",
    "std_reg.fit(X_train, Y_train)\n",
    "\n",
    "r2_train = std_reg.score(X_train, Y_train)\n",
    "r2_test  = std_reg.score(X_test, Y_test)\n"
   ]
  },
  {
   "cell_type": "code",
   "execution_count": 56,
   "metadata": {},
   "outputs": [],
   "source": [
    "Y_predict = std_reg.predict(X_test)"
   ]
  },
  {
   "cell_type": "code",
   "execution_count": 57,
   "metadata": {},
   "outputs": [
    {
     "name": "stdout",
     "output_type": "stream",
     "text": [
      "0.3809880049817041\n"
     ]
    }
   ],
   "source": [
    "from sklearn.metrics import mean_squared_error\n",
    "rmse = math.sqrt(mean_squared_error(Y_test, Y_predict))\n",
    "print(rmse)"
   ]
  },
  {
   "cell_type": "code",
   "execution_count": null,
   "metadata": {},
   "outputs": [],
   "source": [
    "# Calculate RMSLE and compare results-log prediction and log actual +1 is used so there is o negative values\n",
    "# Exponent opposite to log"
   ]
  },
  {
   "cell_type": "code",
   "execution_count": 58,
   "metadata": {},
   "outputs": [
    {
     "name": "stdout",
     "output_type": "stream",
     "text": [
      "0.35609417069802074\n"
     ]
    }
   ],
   "source": [
    "Y_test_e = []\n",
    "Y_predict_e = []\n",
    "\n",
    "for i in range(0, len(Y_test)):\n",
    "    Y_test_e.append(math.exp(Y_test[i]))\n",
    "    Y_predict_e.append(math.exp(Y_predict[i]))\n",
    "\n",
    "log_sq_sum = 0.0\n",
    "\n",
    "for i in range(0, len(Y_test_e)):\n",
    "    log_a = math.log(Y_test_e[i] + 1)\n",
    "    log_p = math.log(Y_predict_e[i] + 1)\n",
    "    log_diff = (log_p - log_a)**2\n",
    "    log_sq_sum = log_sq_sum + log_diff\n",
    "\n",
    "rmsle = math.sqrt(log_sq_sum/len(Y_test))\n",
    "\n",
    "print(rmsle)\n"
   ]
  },
  {
   "cell_type": "code",
   "execution_count": null,
   "metadata": {},
   "outputs": [],
   "source": []
  },
  {
   "cell_type": "code",
   "execution_count": null,
   "metadata": {},
   "outputs": [],
   "source": []
  },
  {
   "cell_type": "code",
   "execution_count": null,
   "metadata": {},
   "outputs": [],
   "source": []
  },
  {
   "cell_type": "code",
   "execution_count": null,
   "metadata": {},
   "outputs": [],
   "source": []
  }
 ],
 "metadata": {
  "kernelspec": {
   "display_name": "Python 3",
   "language": "python",
   "name": "python3"
  },
  "language_info": {
   "codemirror_mode": {
    "name": "ipython",
    "version": 3
   },
   "file_extension": ".py",
   "mimetype": "text/x-python",
   "name": "python",
   "nbconvert_exporter": "python",
   "pygments_lexer": "ipython3",
   "version": "3.8.3"
  }
 },
 "nbformat": 4,
 "nbformat_minor": 4
}
